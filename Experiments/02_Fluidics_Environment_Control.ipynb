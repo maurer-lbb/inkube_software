{
 "cells": [
  {
   "cell_type": "markdown",
   "metadata": {},
   "source": [
    "### Import all required libraries and set constants for server connection"
   ]
  },
  {
   "cell_type": "code",
   "execution_count": null,
   "metadata": {},
   "outputs": [],
   "source": [
    "import os, sys\n",
    "import numpy as np\n",
    "import pickle\n",
    "import time\n",
    "import matplotlib.pyplot as plt\n",
    "while os.getcwd()[-6:] != 'inkube':\n",
    "    os.chdir('..')\n",
    "print(os.getcwd())\n",
    "sys.path.insert(0, './Communication')\n",
    "from ControlPort import ControlPort\n",
    "from Inkuflow import Inkuflow"
   ]
  },
  {
   "cell_type": "code",
   "execution_count": null,
   "metadata": {},
   "outputs": [],
   "source": [
    "# Create instance of ComtrolPort class\n",
    "ctrl = ControlPort(init_inkulevel=True, MAX_STEPS=72_000, do_log=True)"
   ]
  },
  {
   "cell_type": "markdown",
   "metadata": {},
   "source": [
    "Control MEA temperature"
   ]
  },
  {
   "cell_type": "code",
   "execution_count": null,
   "metadata": {},
   "outputs": [],
   "source": [
    "ctrl.set_mea_temp(37, [0]) # set ought temperature for MEA A\n",
    "ctrl.set_mea_control(1, [0]) # turn controller for MEA A on\n",
    "\n",
    "ctrl.send_commands()"
   ]
  },
  {
   "cell_type": "markdown",
   "metadata": {},
   "source": [
    "Control reservoir temperature and hunmidity"
   ]
  },
  {
   "cell_type": "code",
   "execution_count": null,
   "metadata": {},
   "outputs": [],
   "source": [
    "\n",
    "ctrl.set_env_control(temperature=1, aux=1, aux_is_humidity=0)\n",
    "ctrl.set_env_temp(37) \n",
    "ctrl.set_humidity(60)\n",
    "\n",
    "ctrl.send_commands()"
   ]
  },
  {
   "cell_type": "markdown",
   "metadata": {},
   "source": [
    "Control CO2"
   ]
  },
  {
   "cell_type": "code",
   "execution_count": null,
   "metadata": {},
   "outputs": [],
   "source": [
    "ctrl.set_co2(5)\n",
    "ctrl.set_co2_control(state=1, calib=1, init=0)\n",
    "\n",
    "ctrl.send_commands()"
   ]
  },
  {
   "cell_type": "markdown",
   "metadata": {},
   "source": [
    "Initialise inkuflow"
   ]
  },
  {
   "cell_type": "code",
   "execution_count": null,
   "metadata": {},
   "outputs": [],
   "source": [
    "ctrl.enable_pump()\n",
    "\n",
    "# this intitialises the class to keep level constant with pump and level instance\n",
    "mea_valves = np.array([\n",
    "    [ 0, 1, 2, 3],\n",
    "    [ 6, 7, 8, 9],\n",
    "    [12,13,14,15], \n",
    "    [18,19,20,21], \n",
    "])\n",
    "reservoir_valves = np.array([\n",
    "    [4],      \n",
    "    [10],\n",
    "    [16],\n",
    "    [22],  \n",
    "])\n",
    "flw = Inkuflow(\n",
    "    ctrl, \n",
    "    reservoir_valves=reservoir_valves, \n",
    "    mea_valves=mea_valves, \n",
    "    pump_amount_for_const=int(0.02*Inkuflow.PUMP_STEPS_FOR_100uL), \n",
    "    active_mea=np.array([1,1,1,1]), \n",
    "    medium_lvl_lim_min = np.array([ 2_000, 2_000, 2_000, 2_000]),\n",
    "    medium_lvl_lim_max = np.array([ 3_000, 3_000, 3_000, 3_000]),\n",
    "    pump_range_lim=[2_000, 74_000],\n",
    ")\n",
    "\n",
    "liquids = {'medium': 0, 'mQ': 1, 'waste': 2, 'EtOH': 3}\n",
    "\n",
    "const_liquid = 1"
   ]
  },
  {
   "cell_type": "markdown",
   "metadata": {},
   "source": [
    "Bring pump to midrange position"
   ]
  },
  {
   "cell_type": "code",
   "execution_count": null,
   "metadata": {},
   "outputs": [],
   "source": [
    "\n",
    "ctrl.enable_pump()\n",
    "flw.switch_reservoir(1)\n",
    "ctrl.pump_abs(2_000,10)\n",
    "time.sleep(.5)\n",
    "ctrl.pump_abs(35_000,10)\n",
    "ctrl.pump_position = 35_000\n",
    "ctrl.send_commands()\n"
   ]
  },
  {
   "cell_type": "code",
   "execution_count": null,
   "metadata": {},
   "outputs": [],
   "source": [
    "flw.switch_reservoir(0) # close valves to reservoir"
   ]
  },
  {
   "cell_type": "code",
   "execution_count": null,
   "metadata": {},
   "outputs": [],
   "source": [
    "# manually switch a valve\n",
    "state = 1\n",
    "offset = 0\n",
    "ctrl.switch_valve([0+offset, 6+offset, 12+offset], [state]*3, 0) \n",
    "ctrl.send_commands()"
   ]
  },
  {
   "cell_type": "markdown",
   "metadata": {},
   "source": [
    "Pump without feedback"
   ]
  },
  {
   "cell_type": "code",
   "execution_count": null,
   "metadata": {},
   "outputs": [],
   "source": [
    "flw.exchange_amount_no_fb(\n",
    "    exchange_amount_steps=flw.pump_steps_for_100uL*.3,\n",
    "    liquids=[0], \n",
    "    liquid_directions=[-1], \n",
    "    target_mea=[0,0,1,0])"
   ]
  },
  {
   "cell_type": "markdown",
   "metadata": {},
   "source": [
    "Initialise inkulevel"
   ]
  },
  {
   "cell_type": "code",
   "execution_count": null,
   "metadata": {},
   "outputs": [],
   "source": [
    "\n",
    "for _ in range(2):\n",
    "    ctrl.start_init_inkulevel()\n",
    "    ctrl.send_commands()\n",
    "    time.sleep(2)"
   ]
  },
  {
   "cell_type": "code",
   "execution_count": null,
   "metadata": {},
   "outputs": [],
   "source": [
    "rand_add = 0\n",
    "delay_time = .5\n",
    "for target in [1,0,2,3]:\n",
    "    # for upper/lower put the 600-target output by inkulevel divided by 10 as result is inverted\n",
    "    ctrl.set_inkulevel_param(target_inkulevel=[target] ,param_key='lower', value=[0+rand_add])\n",
    "    ctrl.send_commands()\n",
    "    time.sleep(delay_time)\n",
    "    ctrl.set_inkulevel_param(target_inkulevel=[target] ,param_key='upper', value=[600+rand_add]) \n",
    "    ctrl.send_commands()\n",
    "    time.sleep(delay_time)\n",
    "    ctrl.set_inkulevel_param(target_inkulevel=[target] ,param_key='thresh', value=[255*1+rand_add])\n",
    "    ctrl.send_commands()\n",
    "    time.sleep(delay_time)\n",
    "    ctrl.set_inkulevel_param(target_inkulevel=[target] ,param_key='exposure', value=[800+rand_add]) \n",
    "    ctrl.send_commands()\n",
    "    time.sleep(delay_time)\n",
    "    ctrl.set_inkulevel_param(target_inkulevel=[target] ,param_key='minpix', value=[220+rand_add])\n",
    "    ctrl.send_commands()\n",
    "    time.sleep(delay_time)\n",
    "    ctrl.set_inkulevel_param(target_inkulevel=[target] ,param_key='mindist', value=[600+rand_add])\n",
    "    ctrl.send_commands()\n",
    "    time.sleep(delay_time)\n",
    "    ctrl.set_inkulevel_param(target_inkulevel=[target] ,param_key='peaknum', value=[0+rand_add])\n",
    "    ctrl.send_commands()\n",
    "    time.sleep(delay_time)\n",
    "    ctrl.send_commands()"
   ]
  },
  {
   "cell_type": "code",
   "execution_count": null,
   "metadata": {},
   "outputs": [],
   "source": [
    "ctrl.start_inkulevel_debug_bt([0,0,0,2]) # send every 2nd image of inkulevel on MEA A\n",
    "ctrl.send_commands()"
   ]
  },
  {
   "cell_type": "code",
   "execution_count": null,
   "metadata": {},
   "outputs": [],
   "source": [
    "ctrl.start_inkulevel_send([0,0,0,1]) # activate processing and sending through UART\n",
    "ctrl.send_commands()"
   ]
  },
  {
   "cell_type": "markdown",
   "metadata": {},
   "source": [
    "Calibration cycle for feedbacked pumping"
   ]
  },
  {
   "cell_type": "code",
   "execution_count": null,
   "metadata": {},
   "outputs": [],
   "source": [
    "measurements_max = []\n",
    "measurements_min = []\n",
    "sleep_time = 20\n",
    "calibration_iterations = 2\n",
    "measurement_iterations = 3\n",
    "calibration_liquid = 0\n",
    "target = [0,0,1,0]\n",
    "exchange_amount = flw.pump_steps_for_100uL*.2\n",
    "\n",
    "# rougly 5 min per cycle (for 4 MEAs)\n",
    "time.sleep(30)\n",
    "for i in range(calibration_iterations*2):\n",
    "\n",
    "    if not i%2: \n",
    "        flw.exchange_amount_no_fb(            \n",
    "            exchange_amount_steps=exchange_amount,\n",
    "            liquids=[2], \n",
    "            liquid_directions=[1], \n",
    "            target_mea=target\n",
    "        )\n",
    "\n",
    "        print(f'removed for iteration {i}')\n",
    "        time.sleep(sleep_time)\n",
    "        measurements_min.append(flw.measure_lvl(measurement_iterations, key='median'))\n",
    "        print(measurements_min[-1])\n",
    "    else:\n",
    "        flw.exchange_amount_no_fb(            \n",
    "            exchange_amount_steps=exchange_amount,\n",
    "            liquids=[calibration_liquid], \n",
    "            liquid_directions=[-1], \n",
    "            target_mea=target\n",
    "        )\n",
    "\n",
    "        print(f'added for iteration {i}')\n",
    "        time.sleep(sleep_time)\n",
    "        measurements_max.append(flw.measure_lvl(measurement_iterations, key='median'))\n",
    "        print(measurements_max[-1])\n",
    "\n",
    "\n",
    "\n",
    "print(measurements_min)\n",
    "print(measurements_max)\n",
    "flw.medium_lvl_lim_max = np.mean(np.array(measurements_max), axis=0)\n",
    "flw.medium_lvl_lim_min = np.mean(np.array(measurements_min), axis=0)\n",
    "\n",
    "print(f'Max Threshold: {flw.medium_lvl_lim_max}')\n",
    "print(f'Min Threshold: {flw.medium_lvl_lim_min}')\n"
   ]
  },
  {
   "cell_type": "code",
   "execution_count": null,
   "metadata": {},
   "outputs": [],
   "source": [
    "# measure current level\n",
    "a = flw.measure_lvl(3, key='median')"
   ]
  },
  {
   "cell_type": "markdown",
   "metadata": {},
   "source": [
    "keep volume in wells constant"
   ]
  },
  {
   "cell_type": "code",
   "execution_count": null,
   "metadata": {},
   "outputs": [],
   "source": [
    "# keep level constant\n",
    "flw.const_level(\n",
    "    duration_in_s=60*60*1, # 1 hour\n",
    "    iterations=3, \n",
    "    liquid=0, \n",
    "    target_lvl=flw.medium_lvl_lim_max, \n",
    ")\n",
    "print('Start constant level')"
   ]
  },
  {
   "cell_type": "markdown",
   "metadata": {},
   "source": [
    "execute stepwise medium exchange"
   ]
  },
  {
   "cell_type": "code",
   "execution_count": null,
   "metadata": {},
   "outputs": [],
   "source": [
    "# exchange cycle new\n",
    "flw.const_level(\n",
    "    duration_in_s=(60*4)*60, \n",
    "    iterations=3, \n",
    "    liquid=1, \n",
    "    target_lvl=flw.medium_lvl_lim_max, \n",
    ")\n",
    "print('Start constant level')\n",
    "\n",
    "start_t = time.time()\n",
    "counter = 0\n",
    "mea_id = 0\n",
    "active_meas = [2]\n",
    "\n",
    "exchange_amount_per_hour = 750/4/24 # in ul\n",
    "minutes_for_20ul = 20/exchange_amount_per_hour * 60\n",
    "cycle_duration = minutes_for_20ul/len(active_meas)\n",
    "print(f'Cycle duration in minutes {cycle_duration}')\n",
    "wait_time_for_exchange = 10\n",
    "\n",
    "calib_step_size = 0.5*flw.pump_steps_for_100uL\n",
    "dist_vec = flw.medium_lvl_lim_max - flw.medium_lvl_lim_min\n",
    "print(f'Distance between thresholds: {dist_vec}')\n",
    "\n",
    "while counter < (len(active_meas)*24*5):\n",
    "    target_mea = active_meas[mea_id]\n",
    "    print(f'Start cycle {target_mea}')\n",
    "\n",
    "    flw.pump_until_single_open(\n",
    "        measurement_iterations=2,\n",
    "        liquid=2,\n",
    "        target_lvl=flw.medium_lvl_lim_min[target_mea],\n",
    "        target_mea=target_mea,\n",
    "        direction=1,\n",
    "        anticipated_step_size=calib_step_size,\n",
    "        anticipated_dist = dist_vec[target_mea],\n",
    "        max_factor=1.5,\n",
    "        init_measurement=None,\n",
    "        wait_time_before_measure=10,\n",
    "        approach_factor = .6,\n",
    "        max_iterations = 4, \n",
    "        discard_measurements=2, \n",
    "        min_step_size = 300, \n",
    "        adapt_step_size = False, \n",
    "    )\n",
    "    time.sleep(10)\n",
    "    flw.pump_until_single_open(\n",
    "        measurement_iterations=2,\n",
    "        liquid=0,\n",
    "        target_lvl=flw.medium_lvl_lim_max[target_mea],\n",
    "        target_mea=target_mea,\n",
    "        direction=-1,\n",
    "        anticipated_step_size=calib_step_size,\n",
    "        anticipated_dist = dist_vec[target_mea],\n",
    "        max_factor=2,\n",
    "        init_measurement=None,\n",
    "        wait_time_before_measure=10,\n",
    "        approach_factor = .6,\n",
    "        max_iterations = 4, \n",
    "        discard_measurements=2, \n",
    "        min_step_size = 300, \n",
    "        adapt_step_size = False, \n",
    "    )\n",
    "    \n",
    "    time.sleep(10)\n",
    "\n",
    "    # wait here until n*hours + 10 min\n",
    "    while ((time.time() - (start_t+counter*60*cycle_duration)) < wait_time_for_exchange*60):\n",
    "        time.sleep(5)\n",
    "    print('Start constant level')\n",
    "    flw.const_level(\n",
    "        duration_in_s=(cycle_duration-wait_time_for_exchange)*60, \n",
    "        iterations=3, \n",
    "        liquid=1, \n",
    "        target_lvl=flw.medium_lvl_lim_max, \n",
    "    )\n",
    "    print(f'Finished cycle {counter} after {(time.time()-start_t)/60} min')\n",
    "    counter += 1\n",
    "    mea_id = (mea_id+1) % len(active_meas)\n"
   ]
  }
 ],
 "metadata": {
  "kernelspec": {
   "display_name": ".venv",
   "language": "python",
   "name": "python3"
  },
  "language_info": {
   "codemirror_mode": {
    "name": "ipython",
    "version": 3
   },
   "file_extension": ".py",
   "mimetype": "text/x-python",
   "name": "python",
   "nbconvert_exporter": "python",
   "pygments_lexer": "ipython3",
   "version": "3.10.12"
  }
 },
 "nbformat": 4,
 "nbformat_minor": 4
}
