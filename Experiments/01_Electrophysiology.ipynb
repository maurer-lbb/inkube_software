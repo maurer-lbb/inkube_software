{
 "cells": [
  {
   "cell_type": "markdown",
   "metadata": {},
   "source": [
    "### Import all required libraries and set constants for server connection"
   ]
  },
  {
   "cell_type": "code",
   "execution_count": null,
   "metadata": {},
   "outputs": [],
   "source": [
    "USE_LOCAL_SERVER = True\n",
    "import os, sys\n",
    "import numpy as np\n",
    "\n",
    "import matplotlib.pyplot as plt\n",
    "\n",
    "import time\n",
    "while os.getcwd()[-6:] != 'inkube':\n",
    "    os.chdir('..')\n",
    "print(os.getcwd())\n",
    "sys.path.insert(0, './Communication')\n",
    "from Communication_for_stimulation import Communication\n",
    "# Once the server is running:\n",
    "if USE_LOCAL_SERVER:\n",
    "    host     = '127.0.0.1' \n",
    "else:\n",
    "    host     = '192.168.X.X'     \n",
    "port = 0x1240"
   ]
  },
  {
   "cell_type": "markdown",
   "metadata": {},
   "source": [
    "### Start an instance of the communication class which does all communication to the networks for you"
   ]
  },
  {
   "cell_type": "code",
   "execution_count": null,
   "metadata": {},
   "outputs": [],
   "source": [
    "# Building the communication:\n",
    "com = Communication(host,port)"
   ]
  },
  {
   "cell_type": "markdown",
   "metadata": {},
   "source": [
    "## Spontaneous recording"
   ]
  },
  {
   "cell_type": "code",
   "execution_count": null,
   "metadata": {},
   "outputs": [],
   "source": [
    "max_iterations = 2\n",
    "counter = 0\n",
    "all_responses = []\n",
    "\n",
    "com.send_control({\"mode\": 1})\n",
    "\n",
    "while counter < max_iterations:\n",
    "    r = com.get_spont() # chunks are roughly 1.5 s max\n",
    "    all_responses.append(r)\n",
    "    print(\"Received Spikes\")\n",
    "    counter += 1\n",
    "\n",
    "com.send_control({\"mode\": 0})"
   ]
  },
  {
   "cell_type": "markdown",
   "metadata": {},
   "source": [
    "## Open loop stimulation pulse and parameters"
   ]
  },
  {
   "cell_type": "code",
   "execution_count": null,
   "metadata": {},
   "outputs": [],
   "source": [
    "# create stim matrix of form [[number of samples before recording start, network_id (starting at 0), electrode_id (starting at 0)]]\n",
    "\n",
    "stimulus = np.zeros((15,3), dtype=int)\n",
    "stimulus[:,0] = 29\n",
    "stimulus[:,1] = np.arange(15)\n",
    "stimulus[:,2] = 0\n",
    "\n",
    "print(stimulus[-1])"
   ]
  },
  {
   "cell_type": "code",
   "execution_count": null,
   "metadata": {},
   "outputs": [],
   "source": [
    "com.send_control({\"mode\": 0, 'stim_amp': 1})"
   ]
  },
  {
   "cell_type": "markdown",
   "metadata": {},
   "source": [
    "Closed loop stimulation cycle"
   ]
  },
  {
   "cell_type": "code",
   "execution_count": null,
   "metadata": {},
   "outputs": [],
   "source": [
    "all_responses = []\n",
    "\n",
    "time.sleep(2)\n",
    "\n",
    "current_index = 0\n",
    "iterations_max = 200\n",
    "\n",
    "com.send_control({\"mode\": 2})\n",
    "\n",
    "counter = 0\n",
    "while counter < iterations_max:\n",
    "    r = com.get_response()\n",
    "    current_index = r[\"index\"]\n",
    "    com.send_stimulus(stimulus, current_index+1)\n",
    "    if r[\"stim_recv\"]:\n",
    "        counter+=1\n",
    "        all_responses.append(r)\n",
    "\n",
    "time.sleep(1)\n",
    "com.send_control({\"mode\": 0})"
   ]
  },
  {
   "cell_type": "markdown",
   "metadata": {},
   "source": [
    "rasterplot of stimulus response of first MEA"
   ]
  },
  {
   "cell_type": "code",
   "execution_count": null,
   "metadata": {},
   "outputs": [],
   "source": [
    "cols = ['red', 'green', 'blue', 'purple']\n",
    "\n",
    "for nw in range(15):\n",
    "    plt.figure()\n",
    "    for id, a in enumerate(all_responses[0:]):\n",
    "        for el in range(4):\n",
    "            s = a['spikes'][nw,el]\n",
    "            plt.scatter(s, id*np.ones(len(s)),c=cols[el],s=4)\n",
    "    plt.xlim(0, 25)\n",
    "    plt.title(f'{nw}')\n",
    "plt.show()"
   ]
  },
  {
   "cell_type": "markdown",
   "metadata": {},
   "source": [
    "## Open Loop stimulation with digital aux signal"
   ]
  },
  {
   "cell_type": "code",
   "execution_count": null,
   "metadata": {},
   "outputs": [],
   "source": [
    "fs = 17_361 # sampling frequency\n",
    "stim_cycle = .25 # in sec\n",
    "MAX_PKG_ID = 1_562_500 # after this package IDs repeat. Important for dig aux\n",
    "\n",
    "def get_pkg_from_index(index): # translate the stimulation cycle into the package ID as digital aux is controlled with package ID\n",
    "    samples_per_cycle = stim_cycle*17_361\n",
    "    pkg = index*samples_per_cycle\n",
    "    return int(pkg)\n",
    "\n",
    "alignment_mock_stim = np.array([[0,1,0]]) # use an unused MEA slot if available for this\n",
    "\n",
    "num_of_electrodes = 4 # number of electrodes per circuit for pattern\n",
    "max_num_of_pulses = 12 # maximum number of pulses to be sent open-loop"
   ]
  },
  {
   "cell_type": "code",
   "execution_count": null,
   "metadata": {},
   "outputs": [],
   "source": [
    "delay = 10e-3 # in s, time between pulses\n",
    "stim_delays = (np.arange(max_num_of_pulses)*delay*fs).astype(int) # delays of pulses in packages\n",
    "\n",
    "digaux_time = 50e-3 # time before first pulse that digaux goes high, make sure this does not cross the stimulation cycle\n",
    "digaux_duration =  10e-3 # duration of trigger pulse\n",
    "digaux_delay_on = int(stim_delays[-1]+digaux_time*fs)\n",
    "digaux_delay_off = int(stim_delays[-1]+(digaux_time-digaux_duration)*fs)\n",
    "\n",
    "\n",
    "stim_times = stim_delays/fs\n",
    "assert np.max(stim_times) < stim_cycle # stim_delays should not exceed the stim_cycle"
   ]
  },
  {
   "cell_type": "markdown",
   "metadata": {},
   "source": [
    "create stimulation pulses with different timepoints"
   ]
  },
  {
   "cell_type": "code",
   "execution_count": null,
   "metadata": {},
   "outputs": [],
   "source": [
    "# create stim matrix of form [[package_ID_delay, network_id (starting at 0), electrode_id (starting at 0)]]\n",
    "stimulus_template = np.zeros((max_num_of_pulses,3), dtype=int)\n",
    "all_stimuli = {}\n",
    "\n",
    "stimulus_template[:,0] = stim_delays # set delays\n",
    "# newtork stays at 0\n",
    "\n",
    "# all at the same time\n",
    "stimulus_all = np.repeat(stimulus_template, repeats=num_of_electrodes*np.ones(max_num_of_pulses, dtype=int), axis=0)\n",
    "stimulus_all[:,2] = np.arange(num_of_electrodes*max_num_of_pulses, dtype=int)%num_of_electrodes # all electrodes at any timeslot\n",
    "all_stimuli['all'] = stimulus_all\n",
    "\n",
    "# cycle iterates through the electrodes in a cycle one after the other\n",
    "stimulus_cycle = np.copy(stimulus_template)\n",
    "stimulus_cycle[:,2] = np.arange(max_num_of_pulses, dtype=int)%num_of_electrodes\n",
    "all_stimuli['cycle'] = stimulus_cycle\n",
    "\n",
    "# sequence is same as all but for one electrode only\n",
    "for seq_el in range(num_of_electrodes):\n",
    "    stimulus_seq = np.copy(stimulus_template)\n",
    "    stimulus_seq[:,2] = seq_el*np.ones(max_num_of_pulses, dtype=int)\n",
    "    all_stimuli[f'seq_{seq_el}'] = stimulus_seq"
   ]
  },
  {
   "cell_type": "code",
   "execution_count": null,
   "metadata": {},
   "outputs": [],
   "source": [
    "# adjust how many pulse trains are sent\n",
    "iterations_max = 20\n",
    "# adjust how many pulses one train contains\n",
    "number_of_pulses = 12 # must be smaller than maximum \n",
    "# adjust what type of train is sent\n",
    "stimulus = all_stimuli['all'] # select here 'all', 'cycle' or 'seq_x'\n",
    "stimulus = stimulus[-(stimulus.shape[0]//max_num_of_pulses*number_of_pulses):]"
   ]
  },
  {
   "cell_type": "markdown",
   "metadata": {},
   "source": [
    "Open loop stimulation cycle"
   ]
  },
  {
   "cell_type": "code",
   "execution_count": null,
   "metadata": {},
   "outputs": [],
   "source": [
    "counter = 0\n",
    "iterations = 0\n",
    "current_index = 0\n",
    "all_responses = []\n",
    "\n",
    "# switch to open-loop stimulation mode\n",
    "com.send_control({'mode': 3})\n",
    "\n",
    "# align to match the right period, therefore a dummy pulse is sent\n",
    "flag = 1\n",
    "r = com.get_response()\n",
    "while flag:\n",
    "    com.send_stimulus(alignment_mock_stim, r[\"index\"]+1)\n",
    "    r = com.get_response()\n",
    "    print('Sent alignment')\n",
    "    flag = not r[\"stim_recv\"]\n",
    "#r = com.get_response()\n",
    "while counter < iterations_max:\n",
    "# for iterations in range(iterations_max):\n",
    "    \n",
    "    current_index = r[\"index\"]\n",
    "    if current_index > -1: # skip the first period\n",
    "        com.send_control(\n",
    "            {\n",
    "                'digaux_on': (get_pkg_from_index(current_index+1)-digaux_delay_on)%MAX_PKG_ID,\n",
    "                'digaux_off': (get_pkg_from_index(current_index+1)-digaux_delay_off)%MAX_PKG_ID \n",
    "            }\n",
    "        )\n",
    "        time.sleep(10e-3) # make sure the dig aux commands arrive and get executed before the stimulus\n",
    "        com.send_stimulus(stimulus, current_index+1)\n",
    "        print(f\"Index for stim {current_index+1}\")\n",
    "    \n",
    "    if r[\"stim_recv\"]:\n",
    "        counter+=1\n",
    "        all_responses.append(r)\n",
    "    iterations += 1\n",
    "    print(f\"Received {counter} / {iterations}. Index {current_index}\")\n",
    "    r = com.get_response()\n",
    "\n",
    "time.sleep(2)\n",
    "com.send_control({'mode': 0})"
   ]
  }
 ],
 "metadata": {
  "kernelspec": {
   "display_name": ".venv",
   "language": "python",
   "name": "python3"
  },
  "language_info": {
   "codemirror_mode": {
    "name": "ipython",
    "version": 3
   },
   "file_extension": ".py",
   "mimetype": "text/x-python",
   "name": "python",
   "nbconvert_exporter": "python",
   "pygments_lexer": "ipython3",
   "version": "3.10.12"
  }
 },
 "nbformat": 4,
 "nbformat_minor": 2
}
